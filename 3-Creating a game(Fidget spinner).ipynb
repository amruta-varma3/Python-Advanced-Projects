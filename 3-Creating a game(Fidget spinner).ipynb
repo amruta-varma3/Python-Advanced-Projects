{
 "cells": [
  {
   "cell_type": "markdown",
   "metadata": {},
   "source": [
    "### The logic of the game is the heart and soul of your game. It defines the game world, what things are in the universe and how they interact. It also defines how the state of the game can be altered by external stimuli, such as a human player pressing a button on the gamepad or an AI process taking action to kill you."
   ]
  },
  {
   "cell_type": "markdown",
   "metadata": {},
   "source": [
    "###  I am going to create a very simple game based on a fidget spinner. The logic of the game is that the turns will keep increasing as you press the space bar, and it will reduce its speed and stop at a point where you stop pressing the space bar."
   ]
  },
  {
   "cell_type": "code",
   "execution_count": 1,
   "metadata": {},
   "outputs": [],
   "source": [
    "from turtle import *\n",
    "state = {'turn': 0}\n",
    "def spinner():\n",
    "    clear()\n",
    "    angle = state['turn']/10\n",
    "    right(angle)\n",
    "    forward(100)\n",
    "    dot(120, 'red')\n",
    "    back(100)\n",
    "    right(120)\n",
    "    forward(100)\n",
    "    dot(120, 'green')\n",
    "    back(100)\n",
    "    right(120)\n",
    "    forward(100)\n",
    "    dot(120, 'blue')\n",
    "    back(100)\n",
    "    right(120)\n",
    "    update()\n",
    "def animate():\n",
    "    if state['turn']>0:\n",
    "        state['turn']-=1\n",
    "\n",
    "    spinner()\n",
    "    ontimer(animate, 20)\n",
    "def flick():\n",
    "    state['turn']+=10\n",
    "\n",
    "setup(420, 420, 370, 0)\n",
    "hideturtle()\n",
    "tracer(False)\n",
    "width(20)\n",
    "onkey(flick, 'space')\n",
    "listen()\n",
    "animate()\n",
    "done()"
   ]
  }
 ],
 "metadata": {
  "kernelspec": {
   "display_name": "Python 3",
   "language": "python",
   "name": "python3"
  },
  "language_info": {
   "codemirror_mode": {
    "name": "ipython",
    "version": 3
   },
   "file_extension": ".py",
   "mimetype": "text/x-python",
   "name": "python",
   "nbconvert_exporter": "python",
   "pygments_lexer": "ipython3",
   "version": "3.10.11"
  }
 },
 "nbformat": 4,
 "nbformat_minor": 2
}
