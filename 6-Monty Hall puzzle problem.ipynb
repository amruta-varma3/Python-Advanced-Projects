{
 "cells": [
  {
   "cell_type": "markdown",
   "metadata": {},
   "source": [
    "## The Monty Hall Problem is a well-known puzzle derived from an American game show, “Let’s Make a Deal”. \n",
    "\n",
    "### Steps in monty hall:\n",
    "1. The show has three doors. A prize like a car or vacation is behind a door, and the other two doors hide a worthless prize called a Zonk; in most discussions of the problem, the Zonk is a goat.\n",
    "2. The competitor chooses a door. We’ll assume that the entrant has no internal knowledge of which gate is holding the prize, so the entrant will simply make a random choice.\n",
    "3. Smiling host Monty Hall opens one of the other doors, always choosing the one that shows a goat, and always offers the contestant a chance to change their choice for the remaining unopened door.\n",
    "4. The competitor chooses to change the gate or chooses to stick to the first choice."
   ]
  },
  {
   "cell_type": "code",
   "execution_count": 1,
   "metadata": {},
   "outputs": [
    {
     "name": "stderr",
     "output_type": "stream",
     "text": [
      "C:\\Users\\Lenovo\\AppData\\Local\\Temp\\ipykernel_16280\\2468382198.py:21: DeprecationWarning: This function is deprecated. Please call randint(0, 2 + 1) instead\n",
      "  playerdoors = numpy.random.random_integers(0,2, (1000 * 1000 * 1,))\n"
     ]
    },
    {
     "name": "stdout",
     "output_type": "stream",
     "text": [
      "Winning percentage without changing choice:  0.333143\n",
      "Winning percentage while changing choice:  0.666857\n"
     ]
    }
   ],
   "source": [
    "import random\n",
    "from random import seed, randint\n",
    "import numpy\n",
    "\n",
    "def game(winningdoor, selecteddoor, change=False):\n",
    "    assert winningdoor < 3\n",
    "    assert winningdoor >= 0\n",
    "\n",
    "    # Presenter removes the first door that was not selected neither winning\n",
    "    removeddoor = next(i for i in range(3) if i != selecteddoor and i != winningdoor)\n",
    "\n",
    "    # Player decides to change its choice\n",
    "    if change:\n",
    "        selecteddoor = next(i for i in range(3) if i != selecteddoor and i != removeddoor)\n",
    "\n",
    "    # We suppose the player never wants to change its initial choice.\n",
    "    return selecteddoor == winningdoor\n",
    "\n",
    "\n",
    "if __name__ == '__main__':\n",
    "    playerdoors = numpy.random.random_integers(0,2, (1000 * 1000 * 1,))\n",
    "\n",
    "    winningdoors = [d for d in playerdoors if game(1, d)]\n",
    "    print(\"Winning percentage without changing choice: \", len(winningdoors) / len(playerdoors))\n",
    "\n",
    "    winningdoors = [d for d in playerdoors if game(1, d, change=True)]\n",
    "    print(\"Winning percentage while changing choice: \", len(winningdoors) / len(playerdoors))\n"
   ]
  }
 ],
 "metadata": {
  "kernelspec": {
   "display_name": "Python 3",
   "language": "python",
   "name": "python3"
  },
  "language_info": {
   "codemirror_mode": {
    "name": "ipython",
    "version": 3
   },
   "file_extension": ".py",
   "mimetype": "text/x-python",
   "name": "python",
   "nbconvert_exporter": "python",
   "pygments_lexer": "ipython3",
   "version": "3.10.11"
  }
 },
 "nbformat": 4,
 "nbformat_minor": 2
}
